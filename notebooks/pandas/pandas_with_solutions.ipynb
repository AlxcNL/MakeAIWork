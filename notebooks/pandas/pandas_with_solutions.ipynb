{
 "cells": [
  {
   "cell_type": "markdown",
   "id": "b45dd50e-d75c-41d2-a549-110cc111e32b",
   "metadata": {},
   "source": [
    "<a href=\"https://it-omscholing.nl/locaties/hogeschool-rotterdam/\">\n",
    "<div>\n",
    "<a><img src='../pics/banner.PNG'/></a>\n",
    "</div>\n",
    "<div>\n",
    "<a href=''><img src='../pics/miw.PNG'/></a>\n",
    "<em>Author: Jeroen Boogaard</em>\n",
    "</div>\n",
    "</a>"
   ]
  },
  {
   "cell_type": "markdown",
   "id": "63f0720b-4a62-479d-873b-c5f6cad9a89d",
   "metadata": {},
   "source": [
    "<h1>Numpy</h1>"
   ]
  },
  {
   "cell_type": "markdown",
   "id": "3619d610-30b3-41a2-b5f0-ae37b9d5b105",
   "metadata": {},
   "source": [
    "<h2>Imports</h2>"
   ]
  },
  {
   "cell_type": "code",
   "execution_count": null,
   "id": "05407e0b-deaa-441c-b6da-de4c03f4fd6e",
   "metadata": {},
   "outputs": [],
   "source": [
    "# enable yes to all in current env\n",
    "!pip install csv23 ipywidgets matplotlib numpy pandas"
   ]
  },
  {
   "cell_type": "code",
   "execution_count": null,
   "id": "42257a05-c794-4121-a9cf-fe53fa3a1dc1",
   "metadata": {},
   "outputs": [],
   "source": [
    "from csv import reader\n",
    "from csv import writer\n",
    "from ipywidgets import interact\n",
    "import matplotlib.pyplot as plt\n",
    "import numpy as np\n",
    "import pandas as pd"
   ]
  },
  {
   "cell_type": "markdown",
   "id": "8e48110a-ff83-4fba-aab9-7cb3678fe668",
   "metadata": {},
   "source": [
    "<h2>Opdracht 2</h2>"
   ]
  },
  {
   "cell_type": "markdown",
   "id": "47ac5b87-14b1-437e-91cb-93dadadef8f9",
   "metadata": {},
   "source": [
    "<h3>Gegeven</h3>"
   ]
  },
  {
   "cell_type": "markdown",
   "id": "8605ba6e-3f4e-4fe1-b76f-c784f2f44735",
   "metadata": {},
   "source": [
    "Planet | DistanceToSun | Type\n",
    "--|--|--\n",
    "Earth| 1 | Terrestrial\n",
    "Jupiter | 5.203 | Jovian\n",
    "Mars | 1.524 | Terrestrial\n",
    "Mercury | 0.39 | Terrestrial\n",
    "Neptune | 30.06 | Jovian\n",
    "Saturn | 9.54 | Jovian\n",
    "Uranus | 19.18 | Jovian\n",
    "Venus | 0.723 | Terrestrial"
   ]
  },
  {
   "cell_type": "code",
   "execution_count": null,
   "id": "519ca4fe-dfa5-410c-8dd4-9b4dec91675c",
   "metadata": {},
   "outputs": [],
   "source": [
    "csvFilename = \"csv/planets.csv\""
   ]
  },
  {
   "cell_type": "markdown",
   "id": "ad98fa30-0e0a-4ec4-9930-b63db74c11f2",
   "metadata": {},
   "source": [
    "<h3>Gevraagd</h3>\n",
    "<p>\n",
    "Bepaal aan de hand van een <i>Scatterplot</i> met welke twee eigenschappen aardse planeten te onderscheiden zijn van gasreuzen.   \n",
    "</p>"
   ]
  },
  {
   "cell_type": "markdown",
   "id": "c0c854fb-54db-4baa-b149-2e7d0c1b6391",
   "metadata": {},
   "source": [
    "<h3>Oplossing</h3>\n",
    "<ol>\n",
    "    <li>\n",
    "        <strong>Importeer planets.csv naar een <i>Numpy Dataframe</i> en sorteer de data op <u>naam</u></strong>\n",
    "    </li>\n",
    "    <li>\n",
    "        <strong>Voeg voor elke planeet de eigenschap <i>DistanceToSun</i> en <i>PlanetType</i> toe in een extra kolom met de corresponderende waarde uit bovenstaande tabel</strong>\n",
    "    </li>\n",
    "    <li>\n",
    "        <strong>Open het verrijkte csv-bestand en maak <u>FeatureLists</u> en een <u>LabelList</u> van <u>PlanetType</u></strong>\n",
    "    </li>       \n",
    "    <li>\n",
    "        <strong>Combineer twee <u>FeatureLists</u> naar keuze met de <u>LabelList</u> in een <u>FeatureDataFrame</u></strong>\n",
    "    </li>       \n",
    "    <li>\n",
    "        <strong>Maak <u>featureGroups</u> door te groeperen op <u>PlanetType</u></strong>\n",
    "    </li>\n",
    "</ol>    "
   ]
  },
  {
   "cell_type": "markdown",
   "id": "b2a7b7fb-56b3-43f7-a6b5-34adc057c3d1",
   "metadata": {},
   "source": [
    "**Stap 1: Importeer planets.csv naar een <i>Numpy Dataframe</i> en sorteer de data op <u>naam</u>**"
   ]
  },
  {
   "cell_type": "code",
   "execution_count": null,
   "id": "8c1b317f-55d6-4765-a6b5-7941f0d4bb89",
   "metadata": {},
   "outputs": [],
   "source": [
    "def sortCsvData(csvData, colName):\n",
    "    # Copy data\n",
    "    csvDataSorted = csvData.copy()\n",
    "    # Sort data\n",
    "    csvDataSorted.sort_values([colName],\n",
    "        axis=0,\n",
    "        ascending=[True],\n",
    "        inplace=True)\n",
    "    return csvDataSorted\n",
    "\n",
    "csvData = pd.read_csv(csvFilename, header = 0, sep = ',', )\n",
    "planetDataFrame = sortCsvData(csvData, \"Name\")\n",
    "# print(planetDataFrame)"
   ]
  },
  {
   "cell_type": "markdown",
   "id": "cb173657-2bc3-4d22-b911-b0dc766e040e",
   "metadata": {},
   "source": [
    "**Stap 2: Voeg voor elke planeet de eigenschap <i>DistanceToSun</i> en <i>Type</i> toe in een extra kolom met de corresponderende waarde uit bovenstaande tabel**"
   ]
  },
  {
   "cell_type": "code",
   "execution_count": null,
   "id": "19d519ed-4ad1-4598-aed0-4ccbc8e0bb7c",
   "metadata": {},
   "outputs": [],
   "source": [
    "def addColumn(dataFrame, newColumn, outputFileName, headers):\n",
    "    with open(outputFileName, 'w', newline='') as writeObject:\n",
    "        csvWriter = writer(writeObject)\n",
    "       \n",
    "        writeObject.write(headers)\n",
    "        writeObject.write(\"\\n\")\n",
    "           \n",
    "        row = None    \n",
    "            \n",
    "        # Append values\n",
    "        for row in planetDataFrame.values.tolist():\n",
    "            # print(type(row))\n",
    "            print(row)\n",
    "            newValue = newColumn.pop()\n",
    "            row.append(newValue)\n",
    "            # Add the updated row / list to the output file\n",
    "            csvWriter.writerow(row)"
   ]
  },
  {
   "cell_type": "code",
   "execution_count": null,
   "id": "5084fbca-78da-4e99-83db-ac32cea6feec",
   "metadata": {},
   "outputs": [],
   "source": [
    "with open(csvFilename, 'r') as csvFile:\n",
    "    headers = f\"{csvFile.readline().strip()}, PlanetType\"\n",
    "\n",
    "print(headers)            \n",
    "planetTypes = [\"Terrestrial\", \"Jovian\", \"Terrestrial\", \"Terrestrial\", \"Jovian\", \"Jovian\", \"Jovian\", \"Terrestrial\"]\n",
    "enrichedFilename = csvFilename.replace(\".csv\", \"_enriched.csv\")\n",
    "addColumn(planetDataFrame, planetTypes, enrichedFilename, headers)"
   ]
  },
  {
   "cell_type": "markdown",
   "id": "84d8574f-1fa9-45e3-89f8-85fb01e22e96",
   "metadata": {},
   "source": [
    "**Stap 3: Open het verrijkte csv-bestand en maak <u>FeatureLists</u> en een <u>LabelList</u> van <u>PlanetType</u>**"
   ]
  },
  {
   "cell_type": "code",
   "execution_count": null,
   "id": "09d9333e-3c8a-4684-a434-424863c4adbf",
   "metadata": {},
   "outputs": [],
   "source": [
    "planetDataFrameEnriched = pd.read_csv(enrichedFilename, header = 0, sep = ',')\n",
    "\n",
    "# Diameter\n",
    "feature1Df = pd.DataFrame.from_records(planetDataFrameEnriched.iloc[:,[1]].values)\n",
    "feature1List = feature1Df.transpose().values[0].tolist()\n",
    "print(type(feature1List))\n",
    "print(feature1List)\n",
    "\n",
    "# SurfaceGravity\n",
    "feature2Df = pd.DataFrame.from_records(planetDataFrameEnriched.iloc[:,[6]].values)\n",
    "feature2List = feature2Df.transpose().values[0].tolist()\n",
    "\n",
    "# Satellites\n",
    "feature3Df = pd.DataFrame.from_records(planetDataFrameEnriched.iloc[:,[9]].values)\n",
    "feature3List = feature3Df.transpose().values[0].tolist()\n",
    "\n",
    "# DistanceToSun\n",
    "feature4Df = pd.DataFrame.from_records(planetDataFrameEnriched.iloc[:,[10]].values)\n",
    "feature4List = feature4Df.transpose().values[0].tolist()\n",
    "\n",
    "labelDf = pd.DataFrame.from_records(planetDataFrameEnriched.iloc[:,[11]].values)\n",
    "labelList = labelDf.transpose().values[0].tolist()\n",
    "\n",
    "nameDf = pd.DataFrame.from_records(planetDataFrameEnriched.iloc[:,[0]].values)\n",
    "nameList = nameDf.transpose().values[0].tolist()\n",
    "print(nameList)"
   ]
  },
  {
   "cell_type": "markdown",
   "id": "fc3058a2-9483-4034-841c-158b566f775e",
   "metadata": {},
   "source": [
    "**Stap 4: Combineer twee <u>FeatureLists</u> naar keuze met de <u>LabelList</u> in een <u>FeatureDataFrame</u>**"
   ]
  },
  {
   "cell_type": "code",
   "execution_count": null,
   "id": "71f968a5-fb1c-4760-a2ed-2951726e10d6",
   "metadata": {},
   "outputs": [],
   "source": [
    "featureDf = pd.DataFrame(\n",
    "                            {\n",
    "                                'names': nameList,\n",
    "                                'Diameter': feature1List,\n",
    "                                'DistanceToSun': feature4List,\n",
    "                                'PlanetType': labelList\n",
    "                            }\n",
    "                          )"
   ]
  },
  {
   "cell_type": "markdown",
   "id": "d66c01ff-5c94-43a1-bda0-a83d5a9589c6",
   "metadata": {},
   "source": [
    "**Stap 5: Maak <u>featureGroups</u> door te groeperen op <u>PlanetType</u>**"
   ]
  },
  {
   "cell_type": "code",
   "execution_count": null,
   "id": "ea2aae21-5fd2-4633-be2a-1616d52a9940",
   "metadata": {},
   "outputs": [],
   "source": [
    "featureGroups = featureDf.groupby('PlanetType')\n",
    "\n",
    "for name, group in featureGroups:\n",
    "    plt.plot(group.Diameter, group.DistanceToSun, marker='o', linestyle='', markersize=12, label=name)\n",
    "\n",
    "plt.legend()"
   ]
  },
  {
   "cell_type": "markdown",
   "id": "5a550077-c83c-4af2-96fa-7a32158d5198",
   "metadata": {},
   "source": [
    "Databron: https://www.cleverlysmart.com/planet-distance-to-sun-how-far-are-the-planets-from-sun"
   ]
  },
  {
   "cell_type": "markdown",
   "id": "11d181d1-c906-4ad1-9d8f-69836a4e8cc7",
   "metadata": {},
   "source": [
    "</ol>"
   ]
  },
  {
   "cell_type": "markdown",
   "id": "03ac855f-3986-4b4a-823c-10c6d8b33024",
   "metadata": {},
   "source": [
    "</ol>"
   ]
  },
  {
   "cell_type": "markdown",
   "id": "0be19a7e-a00f-4773-a19a-50b07618f856",
   "metadata": {},
   "source": [
    "\n"
   ]
  }
 ],
 "metadata": {
  "kernelspec": {
   "display_name": "Python 3",
   "language": "python",
   "name": "python3"
  },
  "language_info": {
   "codemirror_mode": {
    "name": "ipython",
    "version": 3
   },
   "file_extension": ".py",
   "mimetype": "text/x-python",
   "name": "python",
   "nbconvert_exporter": "python",
   "pygments_lexer": "ipython3",
   "version": "3.9.10"
  }
 },
 "nbformat": 4,
 "nbformat_minor": 5
}
