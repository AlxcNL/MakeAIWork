{
 "cells": [
  {
   "cell_type": "markdown",
   "id": "e9707e7f-ea3f-4ca0-b763-48d6b9de1b41",
   "metadata": {},
   "source": [
    "<h3>Floats</h3>\n",
    "<i>Author: Jeroen Boogaard - Make IT Work</i>"
   ]
  },
  {
   "cell_type": "markdown",
   "id": "7977c89b-fad4-4e1d-a5ae-4eb1b4953a17",
   "metadata": {},
   "source": [
    "**Assign a float value to variable f**"
   ]
  },
  {
   "cell_type": "code",
   "execution_count": 1,
   "id": "3aa4bb80-8b55-4979-bee5-0fab4eca1067",
   "metadata": {},
   "outputs": [],
   "source": [
    "f = 15.5"
   ]
  },
  {
   "cell_type": "markdown",
   "id": "ab26603e-a538-42f4-bde1-34497a0ec84c",
   "metadata": {},
   "source": [
    "**Print the value of variable f**"
   ]
  },
  {
   "cell_type": "code",
   "execution_count": 2,
   "id": "da2b4860-f028-4716-907d-60efc875d649",
   "metadata": {},
   "outputs": [
    {
     "name": "stdout",
     "output_type": "stream",
     "text": [
      "15.5\n"
     ]
    }
   ],
   "source": [
    "print(f)"
   ]
  },
  {
   "cell_type": "markdown",
   "id": "7be1ca11-b119-401a-bf79-490014fac8cf",
   "metadata": {},
   "source": [
    "**Print the integer value of variable f**"
   ]
  },
  {
   "cell_type": "code",
   "execution_count": 3,
   "id": "9e0564af-432f-4f04-93bf-00edf76292ef",
   "metadata": {},
   "outputs": [
    {
     "name": "stdout",
     "output_type": "stream",
     "text": [
      "15\n",
      "15.5\n"
     ]
    }
   ],
   "source": [
    "print(int(f))\n",
    "print(f)"
   ]
  },
  {
   "cell_type": "markdown",
   "id": "34a9f9ce-8670-4253-a49a-a2eba77ebd6f",
   "metadata": {},
   "source": [
    "**Note that int(f) did not change the <i>type</i> of f, nor its <i>value</i>**"
   ]
  },
  {
   "cell_type": "code",
   "execution_count": 4,
   "id": "f116a7ea-7d8c-4c81-b9e3-7ea3478db847",
   "metadata": {},
   "outputs": [
    {
     "name": "stdout",
     "output_type": "stream",
     "text": [
      "15.5\n"
     ]
    }
   ],
   "source": [
    "print(f)"
   ]
  },
  {
   "cell_type": "markdown",
   "id": "91448b96-234d-4714-a654-6d45419df678",
   "metadata": {},
   "source": [
    "**To store the integer value, we need assign it to a variable**"
   ]
  },
  {
   "cell_type": "code",
   "execution_count": 5,
   "id": "2092751f-fd31-4215-b930-7a7591c9890b",
   "metadata": {},
   "outputs": [
    {
     "name": "stdout",
     "output_type": "stream",
     "text": [
      "15\n"
     ]
    }
   ],
   "source": [
    "i = int(f)\n",
    "print(i)"
   ]
  },
  {
   "cell_type": "code",
   "execution_count": null,
   "id": "5e556524-2ef4-41a2-bf19-3b20f725dc4d",
   "metadata": {},
   "outputs": [],
   "source": []
  }
 ],
 "metadata": {
  "kernelspec": {
   "display_name": "Python 3 (ipykernel)",
   "language": "python",
   "name": "python3"
  },
  "language_info": {
   "codemirror_mode": {
    "name": "ipython",
    "version": 3
   },
   "file_extension": ".py",
   "mimetype": "text/x-python",
   "name": "python",
   "nbconvert_exporter": "python",
   "pygments_lexer": "ipython3",
   "version": "3.10.5"
  }
 },
 "nbformat": 4,
 "nbformat_minor": 5
}
